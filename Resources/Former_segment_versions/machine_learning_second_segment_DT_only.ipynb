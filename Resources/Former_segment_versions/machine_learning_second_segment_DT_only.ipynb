{
 "cells": [
  {
   "cell_type": "code",
   "execution_count": 1,
   "id": "bef3c328",
   "metadata": {},
   "outputs": [],
   "source": [
    "import numpy as np\n",
    "import pandas as pd\n",
    "from sklearn.model_selection import train_test_split\n",
    "from sklearn.preprocessing import StandardScaler\n",
    "from sklearn.metrics import classification_report\n",
    "from sklearn.tree import DecisionTreeRegressor\n",
    "from sklearn.model_selection import train_test_split"
   ]
  },
  {
   "cell_type": "code",
   "execution_count": 2,
   "id": "6030a555",
   "metadata": {},
   "outputs": [
    {
     "data": {
      "text/html": [
       "<div>\n",
       "<style scoped>\n",
       "    .dataframe tbody tr th:only-of-type {\n",
       "        vertical-align: middle;\n",
       "    }\n",
       "\n",
       "    .dataframe tbody tr th {\n",
       "        vertical-align: top;\n",
       "    }\n",
       "\n",
       "    .dataframe thead th {\n",
       "        text-align: right;\n",
       "    }\n",
       "</style>\n",
       "<table border=\"1\" class=\"dataframe\">\n",
       "  <thead>\n",
       "    <tr style=\"text-align: right;\">\n",
       "      <th></th>\n",
       "      <th>reference</th>\n",
       "      <th>year</th>\n",
       "      <th>country</th>\n",
       "      <th>billionaires</th>\n",
       "      <th>sum_net_worth</th>\n",
       "      <th>rate</th>\n",
       "      <th>life_ladder</th>\n",
       "      <th>log_gdp_per_capita</th>\n",
       "      <th>social_support</th>\n",
       "      <th>healthy_life_expectancy_at_birth</th>\n",
       "      <th>freedom_to_make_life_choices</th>\n",
       "      <th>generosity</th>\n",
       "      <th>perceptions_of_corruption</th>\n",
       "    </tr>\n",
       "  </thead>\n",
       "  <tbody>\n",
       "    <tr>\n",
       "      <th>0</th>\n",
       "      <td>2016Argentina</td>\n",
       "      <td>2016</td>\n",
       "      <td>Argentina</td>\n",
       "      <td>1</td>\n",
       "      <td>4.5</td>\n",
       "      <td>0.002</td>\n",
       "      <td>6.427</td>\n",
       "      <td>10.051</td>\n",
       "      <td>0.883</td>\n",
       "      <td>68.4</td>\n",
       "      <td>0.848</td>\n",
       "      <td>-0.192</td>\n",
       "      <td>0.851</td>\n",
       "    </tr>\n",
       "    <tr>\n",
       "      <th>1</th>\n",
       "      <td>2016Australia</td>\n",
       "      <td>2016</td>\n",
       "      <td>Australia</td>\n",
       "      <td>5</td>\n",
       "      <td>28.3</td>\n",
       "      <td>0.010</td>\n",
       "      <td>7.250</td>\n",
       "      <td>10.791</td>\n",
       "      <td>0.942</td>\n",
       "      <td>73.0</td>\n",
       "      <td>0.922</td>\n",
       "      <td>0.239</td>\n",
       "      <td>0.399</td>\n",
       "    </tr>\n",
       "    <tr>\n",
       "      <th>2</th>\n",
       "      <td>2016Austria</td>\n",
       "      <td>2016</td>\n",
       "      <td>Austria</td>\n",
       "      <td>2</td>\n",
       "      <td>21.2</td>\n",
       "      <td>0.004</td>\n",
       "      <td>7.048</td>\n",
       "      <td>10.891</td>\n",
       "      <td>0.926</td>\n",
       "      <td>72.4</td>\n",
       "      <td>0.889</td>\n",
       "      <td>0.080</td>\n",
       "      <td>0.524</td>\n",
       "    </tr>\n",
       "    <tr>\n",
       "      <th>3</th>\n",
       "      <td>2016Belgium</td>\n",
       "      <td>2016</td>\n",
       "      <td>Belgium</td>\n",
       "      <td>1</td>\n",
       "      <td>4.9</td>\n",
       "      <td>0.002</td>\n",
       "      <td>6.949</td>\n",
       "      <td>10.819</td>\n",
       "      <td>0.929</td>\n",
       "      <td>71.6</td>\n",
       "      <td>0.866</td>\n",
       "      <td>-0.056</td>\n",
       "      <td>0.497</td>\n",
       "    </tr>\n",
       "    <tr>\n",
       "      <th>4</th>\n",
       "      <td>2016Brazil</td>\n",
       "      <td>2016</td>\n",
       "      <td>Brazil</td>\n",
       "      <td>9</td>\n",
       "      <td>91.8</td>\n",
       "      <td>0.018</td>\n",
       "      <td>6.375</td>\n",
       "      <td>9.578</td>\n",
       "      <td>0.912</td>\n",
       "      <td>66.0</td>\n",
       "      <td>0.807</td>\n",
       "      <td>-0.100</td>\n",
       "      <td>0.781</td>\n",
       "    </tr>\n",
       "  </tbody>\n",
       "</table>\n",
       "</div>"
      ],
      "text/plain": [
       "       reference  year    country  billionaires  sum_net_worth   rate  \\\n",
       "0  2016Argentina  2016  Argentina             1            4.5  0.002   \n",
       "1  2016Australia  2016  Australia             5           28.3  0.010   \n",
       "2    2016Austria  2016    Austria             2           21.2  0.004   \n",
       "3    2016Belgium  2016    Belgium             1            4.9  0.002   \n",
       "4     2016Brazil  2016     Brazil             9           91.8  0.018   \n",
       "\n",
       "   life_ladder  log_gdp_per_capita  social_support  \\\n",
       "0        6.427              10.051           0.883   \n",
       "1        7.250              10.791           0.942   \n",
       "2        7.048              10.891           0.926   \n",
       "3        6.949              10.819           0.929   \n",
       "4        6.375               9.578           0.912   \n",
       "\n",
       "   healthy_life_expectancy_at_birth  freedom_to_make_life_choices  generosity  \\\n",
       "0                              68.4                         0.848      -0.192   \n",
       "1                              73.0                         0.922       0.239   \n",
       "2                              72.4                         0.889       0.080   \n",
       "3                              71.6                         0.866      -0.056   \n",
       "4                              66.0                         0.807      -0.100   \n",
       "\n",
       "   perceptions_of_corruption  \n",
       "0                      0.851  \n",
       "1                      0.399  \n",
       "2                      0.524  \n",
       "3                      0.497  \n",
       "4                      0.781  "
      ]
     },
     "execution_count": 2,
     "metadata": {},
     "output_type": "execute_result"
    }
   ],
   "source": [
    "# Read the 2017 dataset\n",
    "df = pd.read_csv('../Resources/result.csv')\n",
    "df.head()"
   ]
  },
  {
   "cell_type": "code",
   "execution_count": 3,
   "id": "95b91f34",
   "metadata": {
    "scrolled": true
   },
   "outputs": [
    {
     "data": {
      "text/html": [
       "<div>\n",
       "<style scoped>\n",
       "    .dataframe tbody tr th:only-of-type {\n",
       "        vertical-align: middle;\n",
       "    }\n",
       "\n",
       "    .dataframe tbody tr th {\n",
       "        vertical-align: top;\n",
       "    }\n",
       "\n",
       "    .dataframe thead th {\n",
       "        text-align: right;\n",
       "    }\n",
       "</style>\n",
       "<table border=\"1\" class=\"dataframe\">\n",
       "  <thead>\n",
       "    <tr style=\"text-align: right;\">\n",
       "      <th></th>\n",
       "      <th>reference</th>\n",
       "      <th>year</th>\n",
       "      <th>country</th>\n",
       "      <th>billionaires</th>\n",
       "      <th>sum_net_worth</th>\n",
       "      <th>rate</th>\n",
       "      <th>life_ladder</th>\n",
       "      <th>log_gdp_per_capita</th>\n",
       "      <th>social_support</th>\n",
       "      <th>healthy_life_expectancy_at_birth</th>\n",
       "      <th>freedom_to_make_life_choices</th>\n",
       "      <th>generosity</th>\n",
       "      <th>perceptions_of_corruption</th>\n",
       "    </tr>\n",
       "  </thead>\n",
       "  <tbody>\n",
       "    <tr>\n",
       "      <th>0</th>\n",
       "      <td>2016Argentina</td>\n",
       "      <td>2016</td>\n",
       "      <td>Argentina</td>\n",
       "      <td>1</td>\n",
       "      <td>4.5</td>\n",
       "      <td>0.002</td>\n",
       "      <td>6.427</td>\n",
       "      <td>10.051</td>\n",
       "      <td>0.883</td>\n",
       "      <td>68.4</td>\n",
       "      <td>0.848</td>\n",
       "      <td>-0.192</td>\n",
       "      <td>0.851</td>\n",
       "    </tr>\n",
       "    <tr>\n",
       "      <th>1</th>\n",
       "      <td>2016Australia</td>\n",
       "      <td>2016</td>\n",
       "      <td>Australia</td>\n",
       "      <td>5</td>\n",
       "      <td>28.3</td>\n",
       "      <td>0.010</td>\n",
       "      <td>7.250</td>\n",
       "      <td>10.791</td>\n",
       "      <td>0.942</td>\n",
       "      <td>73.0</td>\n",
       "      <td>0.922</td>\n",
       "      <td>0.239</td>\n",
       "      <td>0.399</td>\n",
       "    </tr>\n",
       "    <tr>\n",
       "      <th>2</th>\n",
       "      <td>2016Austria</td>\n",
       "      <td>2016</td>\n",
       "      <td>Austria</td>\n",
       "      <td>2</td>\n",
       "      <td>21.2</td>\n",
       "      <td>0.004</td>\n",
       "      <td>7.048</td>\n",
       "      <td>10.891</td>\n",
       "      <td>0.926</td>\n",
       "      <td>72.4</td>\n",
       "      <td>0.889</td>\n",
       "      <td>0.080</td>\n",
       "      <td>0.524</td>\n",
       "    </tr>\n",
       "    <tr>\n",
       "      <th>3</th>\n",
       "      <td>2016Belgium</td>\n",
       "      <td>2016</td>\n",
       "      <td>Belgium</td>\n",
       "      <td>1</td>\n",
       "      <td>4.9</td>\n",
       "      <td>0.002</td>\n",
       "      <td>6.949</td>\n",
       "      <td>10.819</td>\n",
       "      <td>0.929</td>\n",
       "      <td>71.6</td>\n",
       "      <td>0.866</td>\n",
       "      <td>-0.056</td>\n",
       "      <td>0.497</td>\n",
       "    </tr>\n",
       "    <tr>\n",
       "      <th>4</th>\n",
       "      <td>2016Brazil</td>\n",
       "      <td>2016</td>\n",
       "      <td>Brazil</td>\n",
       "      <td>9</td>\n",
       "      <td>91.8</td>\n",
       "      <td>0.018</td>\n",
       "      <td>6.375</td>\n",
       "      <td>9.578</td>\n",
       "      <td>0.912</td>\n",
       "      <td>66.0</td>\n",
       "      <td>0.807</td>\n",
       "      <td>-0.100</td>\n",
       "      <td>0.781</td>\n",
       "    </tr>\n",
       "  </tbody>\n",
       "</table>\n",
       "</div>"
      ],
      "text/plain": [
       "       reference  year    country  billionaires  sum_net_worth   rate  \\\n",
       "0  2016Argentina  2016  Argentina             1            4.5  0.002   \n",
       "1  2016Australia  2016  Australia             5           28.3  0.010   \n",
       "2    2016Austria  2016    Austria             2           21.2  0.004   \n",
       "3    2016Belgium  2016    Belgium             1            4.9  0.002   \n",
       "4     2016Brazil  2016     Brazil             9           91.8  0.018   \n",
       "\n",
       "   life_ladder  log_gdp_per_capita  social_support  \\\n",
       "0        6.427              10.051           0.883   \n",
       "1        7.250              10.791           0.942   \n",
       "2        7.048              10.891           0.926   \n",
       "3        6.949              10.819           0.929   \n",
       "4        6.375               9.578           0.912   \n",
       "\n",
       "   healthy_life_expectancy_at_birth  freedom_to_make_life_choices  generosity  \\\n",
       "0                              68.4                         0.848      -0.192   \n",
       "1                              73.0                         0.922       0.239   \n",
       "2                              72.4                         0.889       0.080   \n",
       "3                              71.6                         0.866      -0.056   \n",
       "4                              66.0                         0.807      -0.100   \n",
       "\n",
       "   perceptions_of_corruption  \n",
       "0                      0.851  \n",
       "1                      0.399  \n",
       "2                      0.524  \n",
       "3                      0.497  \n",
       "4                      0.781  "
      ]
     },
     "execution_count": 3,
     "metadata": {},
     "output_type": "execute_result"
    }
   ],
   "source": [
    "df.set_index(['year', 'country'])\n",
    "df.head()"
   ]
  },
  {
   "cell_type": "code",
   "execution_count": 4,
   "id": "820505fd",
   "metadata": {},
   "outputs": [
    {
     "data": {
      "text/html": [
       "<div>\n",
       "<style scoped>\n",
       "    .dataframe tbody tr th:only-of-type {\n",
       "        vertical-align: middle;\n",
       "    }\n",
       "\n",
       "    .dataframe tbody tr th {\n",
       "        vertical-align: top;\n",
       "    }\n",
       "\n",
       "    .dataframe thead th {\n",
       "        text-align: right;\n",
       "    }\n",
       "</style>\n",
       "<table border=\"1\" class=\"dataframe\">\n",
       "  <thead>\n",
       "    <tr style=\"text-align: right;\">\n",
       "      <th></th>\n",
       "      <th>year</th>\n",
       "      <th>billionaires</th>\n",
       "      <th>rate</th>\n",
       "      <th>life_ladder</th>\n",
       "      <th>log_gdp_per_capita</th>\n",
       "      <th>social_support</th>\n",
       "      <th>healthy_life_expectancy_at_birth</th>\n",
       "      <th>freedom_to_make_life_choices</th>\n",
       "      <th>generosity</th>\n",
       "      <th>perceptions_of_corruption</th>\n",
       "    </tr>\n",
       "  </thead>\n",
       "  <tbody>\n",
       "    <tr>\n",
       "      <th>0</th>\n",
       "      <td>2016</td>\n",
       "      <td>1</td>\n",
       "      <td>0.002</td>\n",
       "      <td>6.427</td>\n",
       "      <td>10.051</td>\n",
       "      <td>0.883</td>\n",
       "      <td>68.4</td>\n",
       "      <td>0.848</td>\n",
       "      <td>-0.192</td>\n",
       "      <td>0.851</td>\n",
       "    </tr>\n",
       "    <tr>\n",
       "      <th>1</th>\n",
       "      <td>2016</td>\n",
       "      <td>5</td>\n",
       "      <td>0.010</td>\n",
       "      <td>7.250</td>\n",
       "      <td>10.791</td>\n",
       "      <td>0.942</td>\n",
       "      <td>73.0</td>\n",
       "      <td>0.922</td>\n",
       "      <td>0.239</td>\n",
       "      <td>0.399</td>\n",
       "    </tr>\n",
       "    <tr>\n",
       "      <th>2</th>\n",
       "      <td>2016</td>\n",
       "      <td>2</td>\n",
       "      <td>0.004</td>\n",
       "      <td>7.048</td>\n",
       "      <td>10.891</td>\n",
       "      <td>0.926</td>\n",
       "      <td>72.4</td>\n",
       "      <td>0.889</td>\n",
       "      <td>0.080</td>\n",
       "      <td>0.524</td>\n",
       "    </tr>\n",
       "    <tr>\n",
       "      <th>3</th>\n",
       "      <td>2016</td>\n",
       "      <td>1</td>\n",
       "      <td>0.002</td>\n",
       "      <td>6.949</td>\n",
       "      <td>10.819</td>\n",
       "      <td>0.929</td>\n",
       "      <td>71.6</td>\n",
       "      <td>0.866</td>\n",
       "      <td>-0.056</td>\n",
       "      <td>0.497</td>\n",
       "    </tr>\n",
       "    <tr>\n",
       "      <th>4</th>\n",
       "      <td>2016</td>\n",
       "      <td>9</td>\n",
       "      <td>0.018</td>\n",
       "      <td>6.375</td>\n",
       "      <td>9.578</td>\n",
       "      <td>0.912</td>\n",
       "      <td>66.0</td>\n",
       "      <td>0.807</td>\n",
       "      <td>-0.100</td>\n",
       "      <td>0.781</td>\n",
       "    </tr>\n",
       "  </tbody>\n",
       "</table>\n",
       "</div>"
      ],
      "text/plain": [
       "   year  billionaires   rate  life_ladder  log_gdp_per_capita  social_support  \\\n",
       "0  2016             1  0.002        6.427              10.051           0.883   \n",
       "1  2016             5  0.010        7.250              10.791           0.942   \n",
       "2  2016             2  0.004        7.048              10.891           0.926   \n",
       "3  2016             1  0.002        6.949              10.819           0.929   \n",
       "4  2016             9  0.018        6.375               9.578           0.912   \n",
       "\n",
       "   healthy_life_expectancy_at_birth  freedom_to_make_life_choices  generosity  \\\n",
       "0                              68.4                         0.848      -0.192   \n",
       "1                              73.0                         0.922       0.239   \n",
       "2                              72.4                         0.889       0.080   \n",
       "3                              71.6                         0.866      -0.056   \n",
       "4                              66.0                         0.807      -0.100   \n",
       "\n",
       "   perceptions_of_corruption  \n",
       "0                      0.851  \n",
       "1                      0.399  \n",
       "2                      0.524  \n",
       "3                      0.497  \n",
       "4                      0.781  "
      ]
     },
     "execution_count": 4,
     "metadata": {},
     "output_type": "execute_result"
    }
   ],
   "source": [
    "df = df.drop(['reference', 'country', 'sum_net_worth'], axis=1)\n",
    "df.head()"
   ]
  },
  {
   "cell_type": "code",
   "execution_count": 5,
   "id": "b9469839",
   "metadata": {},
   "outputs": [
    {
     "data": {
      "text/plain": [
       "year                                 0\n",
       "billionaires                         0\n",
       "rate                                 0\n",
       "life_ladder                          0\n",
       "log_gdp_per_capita                   1\n",
       "social_support                       0\n",
       "healthy_life_expectancy_at_birth     0\n",
       "freedom_to_make_life_choices         1\n",
       "generosity                           1\n",
       "perceptions_of_corruption           14\n",
       "dtype: int64"
      ]
     },
     "execution_count": 5,
     "metadata": {},
     "output_type": "execute_result"
    }
   ],
   "source": [
    "df.isna().sum()"
   ]
  },
  {
   "cell_type": "code",
   "execution_count": 6,
   "id": "8b219a6c",
   "metadata": {},
   "outputs": [],
   "source": [
    "df = df.drop('perceptions_of_corruption', axis=1)"
   ]
  },
  {
   "cell_type": "code",
   "execution_count": 7,
   "id": "1b5ed013",
   "metadata": {},
   "outputs": [],
   "source": [
    "df = df.dropna()"
   ]
  },
  {
   "cell_type": "code",
   "execution_count": 8,
   "id": "9fd212ca",
   "metadata": {},
   "outputs": [
    {
     "data": {
      "text/plain": [
       "year                                  int64\n",
       "billionaires                          int64\n",
       "rate                                float64\n",
       "life_ladder                         float64\n",
       "log_gdp_per_capita                  float64\n",
       "social_support                      float64\n",
       "healthy_life_expectancy_at_birth    float64\n",
       "freedom_to_make_life_choices        float64\n",
       "generosity                          float64\n",
       "dtype: object"
      ]
     },
     "execution_count": 8,
     "metadata": {},
     "output_type": "execute_result"
    }
   ],
   "source": [
    "df.dtypes"
   ]
  },
  {
   "cell_type": "code",
   "execution_count": 9,
   "id": "f8a51ca7",
   "metadata": {},
   "outputs": [],
   "source": [
    "df = df.astype({'rate': 'int', 'life_ladder': 'int',\n",
    "                'log_gdp_per_capita': 'int', 'social_support': 'int', 'healthy_life_expectancy_at_birth': 'int', \n",
    "                'freedom_to_make_life_choices': 'int', 'generosity': 'int'})"
   ]
  },
  {
   "cell_type": "code",
   "execution_count": 10,
   "id": "b4cff320",
   "metadata": {},
   "outputs": [
    {
     "data": {
      "text/plain": [
       "year                                int64\n",
       "billionaires                        int64\n",
       "rate                                int64\n",
       "life_ladder                         int64\n",
       "log_gdp_per_capita                  int64\n",
       "social_support                      int64\n",
       "healthy_life_expectancy_at_birth    int64\n",
       "freedom_to_make_life_choices        int64\n",
       "generosity                          int64\n",
       "dtype: object"
      ]
     },
     "execution_count": 10,
     "metadata": {},
     "output_type": "execute_result"
    }
   ],
   "source": [
    "df.dtypes"
   ]
  },
  {
   "cell_type": "code",
   "execution_count": 11,
   "id": "29111214",
   "metadata": {},
   "outputs": [],
   "source": [
    "X = df.drop('billionaires', axis=1)\n",
    "y = df['billionaires']\n",
    "\n"
   ]
  },
  {
   "cell_type": "code",
   "execution_count": 12,
   "id": "05f79960",
   "metadata": {},
   "outputs": [],
   "source": [
    "X_train, X_test, y_train, y_test = train_test_split(X, y, test_size=0.2, random_state=42)"
   ]
  },
  {
   "cell_type": "code",
   "execution_count": 13,
   "id": "38d170d7",
   "metadata": {},
   "outputs": [
    {
     "data": {
      "text/plain": [
       "(164, 8)"
      ]
     },
     "execution_count": 13,
     "metadata": {},
     "output_type": "execute_result"
    }
   ],
   "source": [
    "X_train.shape"
   ]
  },
  {
   "cell_type": "code",
   "execution_count": 14,
   "id": "6c69e504",
   "metadata": {},
   "outputs": [
    {
     "data": {
      "text/plain": [
       "(41, 8)"
      ]
     },
     "execution_count": 14,
     "metadata": {},
     "output_type": "execute_result"
    }
   ],
   "source": [
    "X_test.shape"
   ]
  },
  {
   "cell_type": "code",
   "execution_count": 15,
   "id": "b4b8401b",
   "metadata": {},
   "outputs": [],
   "source": [
    "scaler = StandardScaler()"
   ]
  },
  {
   "cell_type": "code",
   "execution_count": 16,
   "id": "85dbd5e1",
   "metadata": {},
   "outputs": [],
   "source": [
    "train_scaled = scaler.fit_transform(X_train)"
   ]
  },
  {
   "cell_type": "code",
   "execution_count": 17,
   "id": "0ed99764",
   "metadata": {},
   "outputs": [],
   "source": [
    "test_scaled = scaler.transform(X_test)"
   ]
  },
  {
   "cell_type": "code",
   "execution_count": 18,
   "id": "1ab1b63f",
   "metadata": {},
   "outputs": [],
   "source": [
    "tree_model = DecisionTreeRegressor()"
   ]
  },
  {
   "cell_type": "code",
   "execution_count": 19,
   "id": "e01c828e",
   "metadata": {},
   "outputs": [
    {
     "data": {
      "text/plain": [
       "DecisionTreeRegressor()"
      ]
     },
     "execution_count": 19,
     "metadata": {},
     "output_type": "execute_result"
    }
   ],
   "source": [
    "tree_model.fit(train_scaled, y_train)"
   ]
  },
  {
   "cell_type": "code",
   "execution_count": 23,
   "id": "2dcd753e",
   "metadata": {},
   "outputs": [
    {
     "name": "stdout",
     "output_type": "stream",
     "text": [
      "Training Score: 0.8357659824687901\n",
      "Testing Score: -0.22655252296377681\n"
     ]
    }
   ],
   "source": [
    "clf = DecisionTreeRegressor(random_state=142).fit(X_train, y_train)\n",
    "print(f'Training Score: {clf.score(X_train, y_train)}')\n",
    "print(f'Testing Score: {clf.score(X_test, y_test)}')"
   ]
  },
  {
   "cell_type": "code",
   "execution_count": null,
   "id": "d000c768",
   "metadata": {},
   "outputs": [],
   "source": []
  }
 ],
 "metadata": {
  "kernelspec": {
   "display_name": "PythonData",
   "language": "python",
   "name": "pythondata"
  },
  "language_info": {
   "codemirror_mode": {
    "name": "ipython",
    "version": 3
   },
   "file_extension": ".py",
   "mimetype": "text/x-python",
   "name": "python",
   "nbconvert_exporter": "python",
   "pygments_lexer": "ipython3",
   "version": "3.8.2"
  }
 },
 "nbformat": 4,
 "nbformat_minor": 5
}
